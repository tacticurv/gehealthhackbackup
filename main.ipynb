from decisiontree import *
from svmUtil import svmClassifier
from rfUtil import rfClassifier
from lrUtil import adaboost_gridSearch_lrClassifier
from utils import remove_missing_data
from sklearn import tree
import numpy as np
from sklearn.metrics import confusion_matrix,mean_absolute_error

def main(fileName):
    # remove missing row if all nan in a row, replace if null, empty strings
    # remove_missing_data(fileName, None, None)


    # load and divide dataset into finaltest data and train data
    dataset = np.genfromtxt(open(fileName, 'r'), delimiter=',')[1:]
    # print dataset[:,3]
    # dataset[:,3] = np.where(dataset[:,3] == 'true', 1, 0)
    # dataset[:, 2] = np.where(dataset[:, 2] == 'true', 1, 0)
    # taking 30 percent as finaltest data
    testData = dataset[:int(0.3 * dataset.shape[0])]
    trainData = dataset[int(0.3 * dataset.shape[0]):]

    # final dataset to train for ann
    finalData = {};

    # for svm get the gamma, c and kernel using grid_search

    # svm
    svm_out = svmClassifier(trainData, testData, 3, 'linear', 1, "auto")
    # random forest
    rf_out = rfClassifier(trainData, testData, 3, 1000, 10)
    # logistic regression
    ada_out = adaboost_gridSearch_lrClassifier(trainData, testData, 3)
    # ann on final result
    tree_out = decision_tree_classifier(trainData[:, :3], trainData[:,3])
    tree.export_graphviz(tree_out, out_file='tree.dot')
    return [(svm_out + rf_out + ada_out)/3,tree_out]

def user_input_data(path_to_data,feature_names,tree1):
    # remove missing row if all nan in a row, replace if null, empty strings
    # remove_missing_data(fileName, None, None)


    # load and divide dataset into finaltest data and train data
    dataset = np.genfromtxt(open(path_to_data, 'r'), delimiter=',')[1:]

    # taking 30 percent as finaltest data
    testData = dataset[:int(0.3 * dataset.shape[0])]
    trainData = dataset[int(0.3 * dataset.shape[0]):]
    tree_out = decision_tree_classifier(trainData[:, :3], trainData[:, 3])
    unmatched_node = compare_trees(tree1,tree_out,feature_names)
    return tree_out, unmatched_node

if __name__ == "__main__":
    output, decision_tree_1 =  main('./data/parameter3.csv')
    feature_names = ["Age","BMI","Smoking","Diagnosis"]
    print feature_names
    dtree2,unmatched_node = user_input_data('./data/rparameter3.csv',feature_names,decision_tree_1)
    tree.export_graphviz(dtree2, out_file='tree2.dot',filled=True)
    print unmatched_node